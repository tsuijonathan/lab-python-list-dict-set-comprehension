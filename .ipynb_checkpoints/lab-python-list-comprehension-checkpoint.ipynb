{
 "cells": [
  {
   "cell_type": "markdown",
   "id": "25d7736c-ba17-4aff-b6bb-66eba20fbf4e",
   "metadata": {},
   "source": [
    "# Lab | List, Dict and Set Comprehension"
   ]
  },
  {
   "cell_type": "markdown",
   "id": "7dd3cbde-675a-4b81-92c3-f728846dbe06",
   "metadata": {},
   "source": [
    "## Exercise: Managing Customer Orders Optimized with Comprehension"
   ]
  },
  {
   "cell_type": "markdown",
   "id": "5d500160-2fb7-4777-b5e4-09d45ebaf328",
   "metadata": {},
   "source": [
    "In the previous exercise, you developed a program to manage customer orders and inventory. Now, let's take it a step further and incorporate comprehension into your code.\n",
    "\n",
    "Follow the steps below to complete the exercise:\n",
    "\n",
    "1. Review your code from the previous exercise and identify areas where you can apply comprehension to simplify and streamline your code. \n",
    "\n",
    "    - *Hint: Apply it to initialize inventory, updating the inventory and printing the updated inventory.*\n",
    "    \n",
    "    - For example, in initializing the inventory, we could have:\n",
    "    \n",
    "        ```python\n",
    "        def initialize_inventory(products):\n",
    "            inventory = {product: int(input(f\"Enter the quantity of {product}s available: \")) for product in products}\n",
    "            return inventory\n",
    "\n",
    "        ```\n",
    "<br>\n",
    "    \n",
    "    \n",
    "2. Modify the function get_customer_orders so it prompts the user to enter the number of customer orders and gathers the product names using a loop and user input. Use comprehension.\n",
    "\n",
    "3. Add a new function to calculate the total price of the customer order. For each product in customer_orders, prompt the user to enter the price of that product. Use comprehension to calculate the total price. Note: assume that the user can only have 1 unit of each product.\n",
    "\n",
    "4. Modify the update_inventory function to remove the product from the inventory if its quantity becomes zero after fulfilling the customer orders. Use comprehension to filter out the products with a quantity of zero from the inventory.\n",
    "\n",
    "5. Print the total price of the customer order.\n",
    "\n",
    "Your code should produce output similar to the following:\n",
    "\n",
    "```python\n",
    "Enter the quantity of t-shirts available:  5\n",
    "Enter the quantity of mugs available:  4\n",
    "Enter the quantity of hats available:  3\n",
    "Enter the quantity of books available:  2\n",
    "Enter the quantity of keychains available:  1\n",
    "Enter the number of customer orders:  2\n",
    "Enter the name of a product that a customer wants to order:  hat\n",
    "Enter the name of a product that a customer wants to order:  keychain\n",
    "\n",
    "Order Statistics:\n",
    "Total Products Ordered: 2\n",
    "Percentage of Unique Products Ordered: 40.0\n",
    "\n",
    "Updated Inventory:\n",
    "t-shirt: 5\n",
    "mug: 4\n",
    "hat: 2\n",
    "book: 2\n",
    "Enter the price of keychain:  5\n",
    "Enter the price of hat:  10\n",
    "Total Price: 15.0\n",
    "\n",
    "```\n"
   ]
  },
  {
   "cell_type": "code",
   "execution_count": 73,
   "id": "20859426-c219-4af0-91a9-3e445eff0734",
   "metadata": {},
   "outputs": [
    {
     "name": "stdin",
     "output_type": "stream",
     "text": [
      "Enter the available quantity for t-shirt:  1\n",
      "Enter the available quantity for mug:  1\n",
      "Enter the available quantity for hat:  1\n",
      "Enter the available quantity for book:  1\n",
      "Enter the available quantity for keychain:  1\n",
      "How many products does the customer want to order?  2\n",
      "Enter product (t-shirt, mug, hat, book, keychain):  mug\n",
      "Enter product (t-shirt, mug, hat, book, keychain):  hat\n"
     ]
    },
    {
     "name": "stdout",
     "output_type": "stream",
     "text": [
      "mug is now out of stock.\n",
      "hat is now out of stock.\n",
      "\n",
      "Order Statistics:\n",
      "Total Products Ordered: 2\n",
      "Percentage of Unique Products Ordered: 40.0%\n",
      "\n",
      "Updated Inventory:\n",
      "t-shirt: 1\n",
      "book: 1\n",
      "keychain: 1\n"
     ]
    },
    {
     "name": "stdin",
     "output_type": "stream",
     "text": [
      "Enter the price for mug:  2.5\n",
      "Enter the price for hat:  2.33\n"
     ]
    },
    {
     "name": "stdout",
     "output_type": "stream",
     "text": [
      "Total price of the order: 4.83\n"
     ]
    }
   ],
   "source": [
    "## products = [\"t-shirt\", \"mug\", \"hat\", \"book\", \"keychain\"]\n",
    "\n",
    "def initialize_inventory(products):\n",
    "    inventory = {product: int(input(f\"Enter the available quantity for {product}: \")) for product in products}\n",
    "    return inventory   \n",
    "\n",
    "def get_customer_orders():\n",
    "    num_orders = int(input(\"How many products does the customer want to order? \"))\n",
    "    orders = [input(f\"Enter product (t-shirt, mug, hat, book, keychain): \").lower() for i in range(num_orders)]\n",
    "    customer_orders = set()\n",
    "    for product in orders:\n",
    "        if product in products:\n",
    "            customer_orders.add(product) \n",
    "        else:\n",
    "            print(f\"Invalid product: {product}. Please enter a valid product.\")\n",
    "    return customer_orders \n",
    "\n",
    "def calculate_total_price(customer_orders):\n",
    "    prices = [float(input(f\"Enter the price for {product}: \")) for product in customer_orders]\n",
    "    total_order_price = sum(prices)    \n",
    "    return total_order_price\n",
    "\n",
    "def update_inventory(customer_orders, inventory):\n",
    "    for product in customer_orders:\n",
    "        if inventory[product] > 0:\n",
    "          inventory[product] -= 1\n",
    "          if inventory[product] == 0:\n",
    "              print(f\"{product} is now out of stock.\")\n",
    "        else:\n",
    "            print(f\"Sorry, {product} is out of stock.\")\n",
    "    return inventory\n",
    "   \n",
    "def calculate_order_statistics(customer_orders, products):\n",
    "    total_products_ordered = len(customer_orders)\n",
    "    unique_percentage = (total_products_ordered / len(products)) * 100\n",
    "    return total_products_ordered, unique_percentage\n",
    "\n",
    "def print_updated_inventory(inventory): \n",
    "    inventory = {product: quantity for product, quantity in inventory.items() if quantity > 0}\n",
    "    print(\"Updated Inventory:\")\n",
    "    for product, quantity in inventory.items():\n",
    "        print(f\"{product}: {quantity}\")\n",
    "    total_price = float(calculate_total_price(customer_orders))\n",
    "    print(f\"Total price of the order: {total_price}\")\n",
    "\n",
    "def print_order_statistics(order_statistics):\n",
    "    total_products_ordered, unique_percentage = order_statistics\n",
    "    print(\n",
    "f\"\"\"\n",
    "Order Statistics:\n",
    "Total Products Ordered: {total_products_ordered}\n",
    "Percentage of Unique Products Ordered: {unique_percentage:}%\n",
    "\"\"\")\n",
    "\n",
    "inventory = initialize_inventory(products)\n",
    "customer_orders = get_customer_orders()\n",
    "update_inventory(customer_orders, inventory)\n",
    "order_statistics = calculate_order_statistics(customer_orders, products) \n",
    "print_order_statistics(order_statistics)\n",
    "print_updated_inventory(inventory) \n"
   ]
  },
  {
   "cell_type": "code",
   "execution_count": null,
   "id": "20697ad7-6a31-42a2-a855-bd32fa5da73d",
   "metadata": {},
   "outputs": [],
   "source": []
  }
 ],
 "metadata": {
  "kernelspec": {
   "display_name": "Python 3 (ipykernel)",
   "language": "python",
   "name": "python3"
  },
  "language_info": {
   "codemirror_mode": {
    "name": "ipython",
    "version": 3
   },
   "file_extension": ".py",
   "mimetype": "text/x-python",
   "name": "python",
   "nbconvert_exporter": "python",
   "pygments_lexer": "ipython3",
   "version": "3.12.4"
  }
 },
 "nbformat": 4,
 "nbformat_minor": 5
}
